{
 "cells": [
  {
   "cell_type": "markdown",
   "metadata": {},
   "source": [
    "<h1>Preprocessing<h1>\n",
    "    <p>In this <p>"
   ]
  },
  {
   "cell_type": "code",
   "execution_count": 3,
   "metadata": {},
   "outputs": [],
   "source": [
    "# required libraries - numpy, pandas, pytorch\n",
    "import numpy as np\n",
    "import pandas as pd\n",
    "import random as rn"
   ]
  },
  {
   "cell_type": "code",
   "execution_count": 16,
   "metadata": {},
   "outputs": [
    {
     "name": "stdout",
     "output_type": "stream",
     "text": [
      "<class 'pandas.core.frame.DataFrame'>\n",
      "Int64Index: 113322 entries, 0 to 113321\n",
      "Data columns (total 18 columns):\n",
      "order_id                         113322 non-null object\n",
      "customer_id                      113322 non-null object\n",
      "order_status                     113322 non-null object\n",
      "order_purchase_timestamp         113322 non-null object\n",
      "order_approved_at                113307 non-null object\n",
      "order_delivered_carrier_date     112119 non-null object\n",
      "order_delivered_customer_date    110847 non-null object\n",
      "order_estimated_delivery_date    113322 non-null object\n",
      "review_id                        113322 non-null object\n",
      "review_score                     113322 non-null int64\n",
      "review_creation_date             113322 non-null object\n",
      "review_answer_timestamp          113322 non-null object\n",
      "order_item_id                    113322 non-null int64\n",
      "product_id                       113322 non-null object\n",
      "seller_id                        113322 non-null object\n",
      "shipping_limit_date              113322 non-null object\n",
      "price                            113322 non-null float64\n",
      "freight_value                    113322 non-null float64\n",
      "dtypes: float64(2), int64(2), object(14)\n",
      "memory usage: 16.4+ MB\n"
     ]
    }
   ],
   "source": [
    "a = pd.read_csv(\"olist_orders_dataset.csv\")\n",
    "b = pd.read_csv(\"olist_order_reviews_dataset_2.csv\")\n",
    "#b = b.dropna(axis=1)\n",
    "c = pd.read_csv(\"olist_order_items_dataset.csv\")\n",
    "merged1 = a.merge(b, on='order_id')\n",
    "merged1 = merged1.merge(c, on = 'order_id')\n",
    "merged1.info()"
   ]
  },
  {
   "cell_type": "code",
   "execution_count": 15,
   "metadata": {},
   "outputs": [
    {
     "name": "stdout",
     "output_type": "stream",
     "text": [
      "<class 'pandas.core.frame.DataFrame'>\n",
      "Int64Index: 113322 entries, 0 to 113321\n",
      "Data columns (total 26 columns):\n",
      "order_id                         113322 non-null object\n",
      "customer_id                      113322 non-null object\n",
      "order_status                     113322 non-null object\n",
      "order_purchase_timestamp         113322 non-null object\n",
      "order_approved_at                113307 non-null object\n",
      "order_delivered_carrier_date     112119 non-null object\n",
      "order_delivered_customer_date    110847 non-null object\n",
      "order_estimated_delivery_date    113322 non-null object\n",
      "review_id                        113322 non-null object\n",
      "review_score                     113322 non-null int64\n",
      "review_creation_date             113322 non-null object\n",
      "review_answer_timestamp          113322 non-null object\n",
      "order_item_id                    113322 non-null int64\n",
      "product_id                       113322 non-null object\n",
      "seller_id                        113322 non-null object\n",
      "shipping_limit_date              113322 non-null object\n",
      "price                            113322 non-null float64\n",
      "freight_value                    113322 non-null float64\n",
      "product_category_name            111710 non-null object\n",
      "product_name_lenght              111710 non-null float64\n",
      "product_description_lenght       111710 non-null float64\n",
      "product_photos_qty               111710 non-null float64\n",
      "product_weight_g                 113304 non-null float64\n",
      "product_length_cm                113304 non-null float64\n",
      "product_height_cm                113304 non-null float64\n",
      "product_width_cm                 113304 non-null float64\n",
      "dtypes: float64(9), int64(2), object(15)\n",
      "memory usage: 23.3+ MB\n"
     ]
    }
   ],
   "source": [
    "d = pd.read_csv(\"olist_products_dataset.csv\")\n",
    "merged2 = merged1.merge(d, on='product_id')\n",
    "merged2.info()"
   ]
  },
  {
   "cell_type": "code",
   "execution_count": 14,
   "metadata": {},
   "outputs": [
    {
     "name": "stdout",
     "output_type": "stream",
     "text": [
      "<class 'pandas.core.frame.DataFrame'>\n",
      "Int64Index: 113322 entries, 0 to 113321\n",
      "Data columns (total 30 columns):\n",
      "order_id                         113322 non-null object\n",
      "customer_id                      113322 non-null object\n",
      "order_status                     113322 non-null object\n",
      "order_purchase_timestamp         113322 non-null object\n",
      "order_approved_at                113307 non-null object\n",
      "order_delivered_carrier_date     112119 non-null object\n",
      "order_delivered_customer_date    110847 non-null object\n",
      "order_estimated_delivery_date    113322 non-null object\n",
      "review_id                        113322 non-null object\n",
      "review_score                     113322 non-null int64\n",
      "review_creation_date             113322 non-null object\n",
      "review_answer_timestamp          113322 non-null object\n",
      "order_item_id                    113322 non-null int64\n",
      "product_id                       113322 non-null object\n",
      "seller_id                        113322 non-null object\n",
      "shipping_limit_date              113322 non-null object\n",
      "price                            113322 non-null float64\n",
      "freight_value                    113322 non-null float64\n",
      "product_category_name            111710 non-null object\n",
      "product_name_lenght              111710 non-null float64\n",
      "product_description_lenght       111710 non-null float64\n",
      "product_photos_qty               111710 non-null float64\n",
      "product_weight_g                 113304 non-null float64\n",
      "product_length_cm                113304 non-null float64\n",
      "product_height_cm                113304 non-null float64\n",
      "product_width_cm                 113304 non-null float64\n",
      "customer_unique_id               113322 non-null object\n",
      "customer_zip_code_prefix         113322 non-null int64\n",
      "customer_city                    113322 non-null object\n",
      "customer_state                   113322 non-null object\n",
      "dtypes: float64(9), int64(3), object(18)\n",
      "memory usage: 26.8+ MB\n"
     ]
    }
   ],
   "source": [
    "e = pd.read_csv(\"olist_customers_dataset.csv\")\n",
    "merged3 = merged2.merge(e, on='customer_id')\n",
    "merged3.info()"
   ]
  },
  {
   "cell_type": "code",
   "execution_count": 17,
   "metadata": {},
   "outputs": [
    {
     "name": "stdout",
     "output_type": "stream",
     "text": [
      "<class 'pandas.core.frame.DataFrame'>\n",
      "Int64Index: 111686 entries, 0 to 111685\n",
      "Data columns (total 31 columns):\n",
      "order_id                         111686 non-null object\n",
      "customer_id                      111686 non-null object\n",
      "order_status                     111686 non-null object\n",
      "order_purchase_timestamp         111686 non-null object\n",
      "order_approved_at                111672 non-null object\n",
      "order_delivered_carrier_date     110523 non-null object\n",
      "order_delivered_customer_date    109280 non-null object\n",
      "order_estimated_delivery_date    111686 non-null object\n",
      "review_id                        111686 non-null object\n",
      "review_score                     111686 non-null int64\n",
      "review_creation_date             111686 non-null object\n",
      "review_answer_timestamp          111686 non-null object\n",
      "order_item_id                    111686 non-null int64\n",
      "product_id                       111686 non-null object\n",
      "seller_id                        111686 non-null object\n",
      "shipping_limit_date              111686 non-null object\n",
      "price                            111686 non-null float64\n",
      "freight_value                    111686 non-null float64\n",
      "product_category_name            111686 non-null object\n",
      "product_name_lenght              111686 non-null float64\n",
      "product_description_lenght       111686 non-null float64\n",
      "product_photos_qty               111686 non-null float64\n",
      "product_weight_g                 111685 non-null float64\n",
      "product_length_cm                111685 non-null float64\n",
      "product_height_cm                111685 non-null float64\n",
      "product_width_cm                 111685 non-null float64\n",
      "customer_unique_id               111686 non-null object\n",
      "customer_zip_code_prefix         111686 non-null int64\n",
      "customer_city                    111686 non-null object\n",
      "customer_state                   111686 non-null object\n",
      "product_category_name_english    111686 non-null object\n",
      "dtypes: float64(9), int64(3), object(19)\n",
      "memory usage: 27.3+ MB\n"
     ]
    }
   ],
   "source": [
    "f = pd.read_csv(\"product_category_name_translation.csv\")\n",
    "merged4 = merged3.merge(f, on='product_category_name')\n",
    "merged4.info()"
   ]
  },
  {
   "cell_type": "code",
   "execution_count": 18,
   "metadata": {},
   "outputs": [
    {
     "name": "stdout",
     "output_type": "stream",
     "text": [
      "<class 'pandas.core.frame.DataFrame'>\n",
      "Int64Index: 111686 entries, 0 to 111685\n",
      "Data columns (total 34 columns):\n",
      "order_id                         111686 non-null object\n",
      "customer_id                      111686 non-null object\n",
      "order_status                     111686 non-null object\n",
      "order_purchase_timestamp         111686 non-null object\n",
      "order_approved_at                111672 non-null object\n",
      "order_delivered_carrier_date     110523 non-null object\n",
      "order_delivered_customer_date    109280 non-null object\n",
      "order_estimated_delivery_date    111686 non-null object\n",
      "review_id                        111686 non-null object\n",
      "review_score                     111686 non-null int64\n",
      "review_creation_date             111686 non-null object\n",
      "review_answer_timestamp          111686 non-null object\n",
      "order_item_id                    111686 non-null int64\n",
      "product_id                       111686 non-null object\n",
      "seller_id                        111686 non-null object\n",
      "shipping_limit_date              111686 non-null object\n",
      "price                            111686 non-null float64\n",
      "freight_value                    111686 non-null float64\n",
      "product_category_name            111686 non-null object\n",
      "product_name_lenght              111686 non-null float64\n",
      "product_description_lenght       111686 non-null float64\n",
      "product_photos_qty               111686 non-null float64\n",
      "product_weight_g                 111685 non-null float64\n",
      "product_length_cm                111685 non-null float64\n",
      "product_height_cm                111685 non-null float64\n",
      "product_width_cm                 111685 non-null float64\n",
      "customer_unique_id               111686 non-null object\n",
      "customer_zip_code_prefix         111686 non-null int64\n",
      "customer_city                    111686 non-null object\n",
      "customer_state                   111686 non-null object\n",
      "product_category_name_english    111686 non-null object\n",
      "seller_zip_code_prefix           111686 non-null int64\n",
      "seller_city                      111686 non-null object\n",
      "seller_state                     111686 non-null object\n",
      "dtypes: float64(9), int64(4), object(21)\n",
      "memory usage: 29.8+ MB\n"
     ]
    }
   ],
   "source": [
    "g = pd.read_csv(\"olist_sellers_dataset.csv\")\n",
    "merged5 = merged4.merge(g, on='seller_id')\n",
    "merged5.info()"
   ]
  },
  {
   "cell_type": "code",
   "execution_count": null,
   "metadata": {},
   "outputs": [],
   "source": []
  }
 ],
 "metadata": {
  "kernelspec": {
   "display_name": "Python 3",
   "language": "python",
   "name": "python3"
  },
  "language_info": {
   "codemirror_mode": {
    "name": "ipython",
    "version": 3
   },
   "file_extension": ".py",
   "mimetype": "text/x-python",
   "name": "python",
   "nbconvert_exporter": "python",
   "pygments_lexer": "ipython3",
   "version": "3.7.1"
  }
 },
 "nbformat": 4,
 "nbformat_minor": 2
}
